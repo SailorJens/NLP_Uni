{
 "cells": [
  {
   "cell_type": "code",
   "execution_count": null,
   "id": "fe3ddc2e",
   "metadata": {},
   "outputs": [
    {
     "name": "stdout",
     "output_type": "stream",
     "text": [
      "\n",
      "If Find My is offline or not working - Apple Support\n",
      "If Find My is offline or not working\n",
      "Learn what to do if you don't see your device listed, you see an alert that says your device is offline, or you see an unexpected device in Find My.\n",
      "I don't see my device in Find My\n",
      "I see my device in Find My, but it's offline\n",
      "I see a device that I don’t own or use anymore\n",
      "I use a device associated with a business or educational institution\n",
      "I don't see my device in Find My\n",
      "Make sure that you\n",
      "set up Find My\n",
      "on your device. You have to set up Find My before you can see your device in the Find My app or on\n",
      "iCloud.com/find\n",
      ".\n",
      "If your device is lost\n",
      "If your device is missing,\n",
      "learn how to mark your device as lost and protect your information\n",
      ".\n",
      "If you have your device with you\n",
      "Check that you signed in to iCloud on your device using your Apple Account: Tap Settings. If you see \"Sign in to your [device],\" tap it and enter your Apple Account email address or phone number and password.\n",
      "Make sure that you s\n"
     ]
    }
   ],
   "source": [
    "import requests\n",
    "from bs4 import BeautifulSoup\n",
    "\n",
    "# URL of the website you want to fetch \n",
    "url = \"https://support.apple.com/en-us/118258\"\n",
    "\n",
    "# Step 1: Download the HTML content\n",
    "response = requests.get(url)\n",
    "html_content = response.text\n",
    "\n",
    "# Step 2: Parse HTML and extract text\n",
    "soup = BeautifulSoup(html_content, \"html.parser\")\n",
    "\n",
    "# Remove scripts, styles, and other non-visible elements\n",
    "for element in soup([\"script\", \"style\", \"header\", \"footer\", \"nav\"]):\n",
    "    element.decompose()\n",
    "\n",
    "# Get only the visible text\n",
    "text = soup.get_text(separator=\"\\n\", strip=True)\n",
    "\n",
    "# Now `text` contains the webpage text\n",
    "print(text[:1000])  # print first 1000 characters as a preview"
   ]
  }
 ],
 "metadata": {
  "kernelspec": {
   "display_name": ".venv",
   "language": "python",
   "name": "python3"
  },
  "language_info": {
   "codemirror_mode": {
    "name": "ipython",
    "version": 3
   },
   "file_extension": ".py",
   "mimetype": "text/x-python",
   "name": "python",
   "nbconvert_exporter": "python",
   "pygments_lexer": "ipython3",
   "version": "3.11.14"
  }
 },
 "nbformat": 4,
 "nbformat_minor": 5
}
